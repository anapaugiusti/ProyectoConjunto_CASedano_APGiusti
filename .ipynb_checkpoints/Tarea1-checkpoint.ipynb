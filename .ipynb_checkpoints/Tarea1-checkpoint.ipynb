{
 "cells": [
  {
   "cell_type": "markdown",
   "metadata": {},
   "source": [
    "# Tarea 1 - Proyecto conjunto Github y resumen python\n",
    "___"
   ]
  },
  {
   "cell_type": "markdown",
   "metadata": {},
   "source": [
    "### `Expectativas del curso`"
   ]
  },
  {
   "cell_type": "markdown",
   "metadata": {},
   "source": [
    "<Strong> 1. Chelsi Sedano </Strong>"
   ]
  },
  {
   "cell_type": "markdown",
   "metadata": {},
   "source": [
    "- En lo personal espero aprender muchas cosas interesantes en la clase de simulación de procesos financieros y saber aplicar las herramientas que me enseñen."
   ]
  },
  {
   "cell_type": "markdown",
   "metadata": {},
   "source": [
    "<Strong> 2. Ana Paula Giusti </Strong>"
   ]
  },
  {
   "cell_type": "markdown",
   "metadata": {},
   "source": [
    "- Mis expectativas del curso son lograr realizar en programación vectorizada y funcional simulaciones de procesos financieros, aprender a utilizar codigo LATEX y realizar un proyecto con el uso de todo lo aprendido en el curso. "
   ]
  },
  {
   "cell_type": "markdown",
   "metadata": {},
   "source": [
    "<Strong> 1. Chelsi Sedano </Strong>"
   ]
  },
  {
   "cell_type": "markdown",
   "metadata": {},
   "source": [
    "> >   ### <font color=blue > Resumen \"Python has brought computer programming to a vast new audience\""
   ]
  },
  {
   "cell_type": "markdown",
   "metadata": {},
   "source": [
    " <div>\n",
    "<img style=\"float: left; margin: 0px 0px 15px 15px;\" src=\"https://www.python.org/static/community_logos/python-logo.png\" width=\"200px\" height=\"200px\" alt=\"atom\" />"
   ]
  },
  {
   "cell_type": "markdown",
   "metadata": {},
   "source": [
    "> >    Un cientifico alemán llamado <Strong>Guido van Rossum</Strong>, decidió crear su propio lenguaje de programación a causa de las deficiencia en otros lenguajes. Lo que el quería era que fuera un programa mucho más sencillo de utilizar. Lo cual resultó un éxito, tanto que supero a Kim Kardashian( *una estrella de un \"reality show\"*) en las busquedas en Google. No solo es popular entre profesional, sino que también tiene demandas por gente común que desean aprender Python. \n",
    "\n",
    "> >    Van Rossum renunció por la incomodidad que le causaba su popularidad, dejando que los Phythonistas (*los afisionados al Phython*) se manejaran por si mismos. Los cuales han ayudado a agregar más de 145,000 packetes al repositorio *Cheese Shop* que van desde astronomía hasta juegos.\n",
    "\n",
    "> >   A pesar de que existen muchos otros lenguajes han evolucionado para un fin en específico y podrían ser mejores que Phython, no deja de ser popular entre la gente porque \" su arma secreta\" es que es muy fácil de aprender, compartir y los paquetes de terceros. Esto lo hace un buen lenguaje de propósito general.\n",
    "\n",
    "> >   Algunos de los paquetes más atractivos que los Pythonistas pueden encontrar en Cheese Shop aprovechan la inteligencia artificial (IA) donde crean redes neuronales, que imitan las conexiones en un cerebro, para seleccionar patrones en grandes cantidades de datos. Pero puede ser utilizado para muchas cosas diferentes y personas diferentes.\n",
    "\n",
    "> >  Nadie sabe cuanto más dura la fama de Phython pero si está siendo enseñado a niños de primaria en Estados Unidos. Pero no ha habido algún otro programa general que sea como Phython.\n"
   ]
  },
  {
   "cell_type": "markdown",
   "metadata": {},
   "source": [
    "### 10 tipos de lenguajes de programación más populares "
   ]
  },
  {
   "cell_type": "markdown",
   "metadata": {},
   "source": [
    "|    | Lenguaje de programación |\n",
    "|----|--------------------------|\n",
    "| 1  | Java                     |\n",
    "| 2  | C                        |\n",
    "| 3  | Python                   |\n",
    "| 4  | C++                      |\n",
    "| 5  | C#                       |\n",
    "| 6  | Visual Basic. NET        |\n",
    "| 7  | JavaScript               |\n",
    "| 8  | PHP                      |\n",
    "| 9  | SWIFT                    |\n",
    "| 10 | SQL                      |"
   ]
  },
  {
   "cell_type": "markdown",
   "metadata": {},
   "source": [
    "# Replica del contenido de la figura 5\n",
    "___"
   ]
  },
  {
   "cell_type": "markdown",
   "metadata": {},
   "source": [
    "1. La fórmula el rectángulo se obtiene al interpolar a $ \\ f (x) $ por medio del polinomio constante  $ \\ P_0(x)= f($$\\frac{a+b}{2}$$) $.\n",
    "\n",
    "\n",
    "\n",
    "$$\n",
    "\\int_a^{b} \\ f (x) dx \\approx (b - a)\\ f(\\frac{a+b}{2})=R(f)\n",
    "$$\n",
    "\n",
    "\n",
    "\n",
    "2. La fórmula del trapecio se obtiene al interpolar a $ \\ f $ por medio de un polimonio lineal $ \\ P_1(x)= \\alpha x + \\beta $ que satisfaga $ f(a)= P_1(a)$ , y  $ \\ f(b)= P_1(b)$. Determinar el polinomio lineal es equivalente a resolver un sistema de ecuaciones lineales para $\\alpha$ y $\\beta$ cuya solución es\n",
    "\n",
    "\n",
    "$$ \\alpha = \\frac{f(b)- f(a)}{b-a} \\ \\beta= \\frac{f(a)- f(b)}{a-b}$$\n",
    "\n",
    "Al integrar $P_1(x) \\ $ en el intervalo $ [a,b]$ se obtiene la regla del trapecio con $ \\ h= b-a $\n",
    "\n",
    "$$\n",
    "\\int_a^{b} \\ f (x) \\ dx \\approx \\int_a^{b} \\ P_1(x)\\ dx = \\frac{h}{2} \\ ( \\ f(a)+ f(b) \\ )= T (\\ f).\n",
    "$$\n",
    "\n",
    "El error está dado por \n",
    "\n",
    "$$ \n",
    "\\int_a^{b} \\ f (x) \\ dx - T(f) = - \\frac{h^3}{12} ( \\ f''(\\eta)), \\ a < \\eta < b.\n",
    "$$\n",
    "\n",
    "3. Por último al integrar el polinomio cuádratico que interpola a $\\ f$ en $x$ en $\\ x = a, \\ x = \\frac{a+b}{2} \\ $ y $ \\ x= b $ se obtiene la regla de Simpson con \n",
    "\n",
    "$$\n",
    "\\int_a^{b} \\ f (x) \\ dx \\approx \\int_a^{b} \\ P_2(x)\\ dx = \\frac{h}{3} \\ ( \\ f(a)+ 4f(a+h)+ f(b) \\ )= S (\\ f).\n",
    "$$\n",
    "\n",
    "El error que se comete al usar Simpson es: \n",
    "\n",
    "$$ \n",
    "\\int_a^{b} \\ f (x) \\ dx - T(f) = - \\frac{h^5}{90} ( \\ f^5(\\eta)), \\ a < \\eta < b.\n",
    "$$\n"
   ]
  },
  {
   "cell_type": "markdown",
   "metadata": {},
   "source": [
    "<Strong> Github estudiante 1: </Strong> https://github.com/chelsi122"
   ]
  },
  {
   "cell_type": "markdown",
   "metadata": {},
   "source": [
    "<Strong> 1. Ana Paula Giusti </Strong>"
   ]
  },
  {
   "cell_type": "markdown",
   "metadata": {},
   "source": [
    "## Resumen de articulo\n",
    "<span style=\"color:blue\"> \"Python has brought computer programming to a vast new audience\""
   ]
  },
  {
   "cell_type": "markdown",
   "metadata": {},
   "source": [
    "![Image](imagen.png \"icon\")"
   ]
  },
  {
   "cell_type": "markdown",
   "metadata": {},
   "source": [
    "El artículo en breves palabras habla de la historia del lenguaje de programación **python** y como creció de una manera muy importante. El creador al que llaman estadistico caprichoso, Guido van Rossum solo realizaba un proyecto de vacaciones de navidad al crear el lenguaje de programación. El siempre busco que este fuera facil de leer, que diferentes personas puedan crear sus propios \"paquetes\" y lo llamo asi por un grupo britanico de comedia. \n",
    "\n",
    "El creador afirma que el no pensaba en el proyecto para \"consumo masivo\". Y este se entera de como Python era más buscado que Kim Kardashian en Google.\n",
    "\n",
    "Una academia de programción aseguro un incremento en la demanda para aprender el lenguaje. Luego nos encontramos con lo pythonistas, quienes eran aficionados y se dedicaban a realizar miles de paquetes de python. Aqui fue cuando Mr Van Rossum dejo a los pythonistas solos con la fama y el trabajo. \n",
    "\n",
    "Sabemos que python no es perfecto, sin embargo a pesar de lenguajes muy utilizados para aplicaciones por ejemplo Java, Python fue utilizado para hackear, en pixar para peliculas, en google y en spotify para recomendaciones de canciones. De igual manera es muy aprovechado para inteligencia artificial o para realizar modelos estadísticos. Y así fue como supero a otros lenguajes en el siguiente orden como se muestra:\n",
    "\n",
    "|   | Lenguajes Utilizados |\n",
    "|---|----------------------|\n",
    "| 1 | Perl                 |\n",
    "| 2 | R                    |\n",
    "| 3 | C++                  |\n",
    "| 4 | PHP                  |\n",
    "| 5 | JavaScript           |\n",
    "| 6 | Java                 |\n",
    "\n",
    "Entre 2015 y 2018 aumenta la fama de Python. Un consultante advierte lo \"aterrador\" que es aprender de la herramienta sin saber lo que esta de bajo de esta. Aqui es donde nos encontramos con el apartado de educar con python, como a las siguientes profesiones:\n",
    "  * ingenieros\n",
    "  * cientificos\n",
    "  * matemáticos\n",
    "  * Y no solo estos, sino desde clase de tecnología en estudios anteriores.\n",
    "  \n",
    "En conclusión se menciona como se puede quedar atras o seguir asi de dominante. Y realizan una afirmación de lo inteligente que es Mr Guido van Rossum."
   ]
  },
  {
   "cell_type": "markdown",
   "metadata": {},
   "source": [
    "## Figura 5"
   ]
  },
  {
   "cell_type": "markdown",
   "metadata": {},
   "source": [
    "1. La fórmula el rectángulo se obtiene al interpolar a $ \\ f (x) $ por medio del polinomio constante  $ \\ P_0(x)= f($$\\frac{a+b}{2}$$) $.\n",
    "\n",
    "\n",
    "$$\n",
    "\\int_a^{b} \\ f (x) dx \\approx (b - a)f(\\frac{a+b}{2})=R(f)\n",
    "$$\n",
    "\n",
    "\n",
    "2. La fórmula del trapecio se obtiene al interpolar a $ \\ f $ por medio de un polimonio lineal $ \\ P_1(x)= \\alpha x + \\beta $ que satisfaga $ f(a)= P_1(a)$ , y  $ \\ f(b)= P_1(b)$. Determinar el polinomio lineal es equivalente a resolver un sistema de ecuaciones lineales para $\\alpha$ y $\\beta$ cuya solución es\n",
    "\n",
    "\n",
    "$$ \\alpha = \\frac{f(b)- f(a)}{b-a} \\ \\beta= \\frac{f(a)- f(b)}{a-b}$$\n",
    "\n",
    "> Al integrar $P_1(x) \\ $ en el intervalo $ [a,b]$ se obtiene la regla del trapecio con $ \\ h= b-a $\n",
    "\n",
    "$$\n",
    "\\int_a^{b} \\ f (x) \\ dx \\approx \\int_a^{b} \\ P_1(x)\\ dx = \\frac{h}{2} \\ ( \\ f(a)+ f(b) \\ )= T (\\ f).\n",
    "$$\n",
    "\n",
    "> El error está dado por \n",
    "\n",
    "$$ \n",
    "\\int_a^{b} \\ f (x) \\ dx - T(f) = - \\frac{h^3}{12} ( \\ f''(\\eta)), \\ a < \\eta < b.\n",
    "$$\n",
    "\n",
    "3. Por último al integrar el polinomio cuádratico que interpola a $\\ f$ en $x$ en $\\ x = a, \\ x = \\frac{a+b}{2} \\ $ y $ \\ x= b $ se obtiene la regla de Simpson con $ \\ h= $$\\frac{b-a}{2}$$ $\n",
    "\n",
    "$$\n",
    "\\int_a^{b} \\ f (x) \\ dx \\approx \\int_a^{b} \\ P_2(x)\\ dx = \\frac{h}{3} \\ ( \\ f(a)+ 4f(a+h)+ f(b) \\ )= S (\\ f).\n",
    "$$\n",
    "\n",
    "> El error que se comete al usar Simpson es: \n",
    "\n",
    "$$ \n",
    "\\int_a^{b} \\ f (x) \\ dx - T(f) = - \\frac{h^5}{90} ( \\ f^5(\\eta)), \\ a < \\eta < b.\n",
    "$$\n"
   ]
  },
  {
   "cell_type": "markdown",
   "metadata": {},
   "source": [
    "# Escribimos la sucesión de fibonacci"
   ]
  },
  {
   "cell_type": "markdown",
   "metadata": {},
   "source": [
    "<Strong> 1. Chelsi Sedano </Strong>"
   ]
  },
  {
   "cell_type": "code",
   "execution_count": 34,
   "metadata": {},
   "outputs": [
    {
     "name": "stdout",
     "output_type": "stream",
     "text": [
      "[1, 1, 2, 3, 5, 8, 13, 21, 34, 55, 89, 144, 233, 377, 610, 987, 1597, 2584, 4181, 6765, 10946, 17711, 28657, 46368, 75025, 121393, 196418, 317811, 514229, 832040, 1346269, 2178309, 3524578, 5702887, 9227465, 14930352, 24157817, 39088169, 63245986, 102334155, 165580141, 267914296, 433494437, 701408733, 1134903170, 1836311903, 2971215073, 4807526976, 7778742049, 12586269025, 20365011074, 32951280099, 53316291173, 86267571272, 139583862445, 225851433717, 365435296162, 591286729879, 956722026041, 1548008755920, 2504730781961, 4052739537881, 6557470319842, 10610209857723, 17167680177565, 27777890035288, 44945570212853, 72723460248141, 117669030460994, 190392490709135, 308061521170129, 498454011879264, 806515533049393, 1304969544928657, 2111485077978050, 3416454622906707, 5527939700884757, 8944394323791464, 14472334024676221, 23416728348467685, 37889062373143906, 61305790721611591, 99194853094755497, 160500643816367088, 259695496911122585, 420196140727489673, 679891637638612258, 1100087778366101931, 1779979416004714189, 2880067194370816120, 4660046610375530309, 7540113804746346429, 12200160415121876738, 19740274219868223167, 31940434634990099905, 51680708854858323072, 83621143489848422977, 135301852344706746049, 218922995834555169026, 354224848179261915075]\n"
     ]
    }
   ],
   "source": [
    "f=[1,1]\n",
    "\n",
    "for i in range(2,100):\n",
    "   f.append(f[i-1]+f[i-2])\n",
    "print(f)"
   ]
  },
  {
   "cell_type": "markdown",
   "metadata": {},
   "source": [
    "# Escribimos la sucesión de fibonacci"
   ]
  },
  {
   "cell_type": "markdown",
   "metadata": {},
   "source": [
    "<Strong> 1. Ana Giusti </Strong>"
   ]
  },
  {
   "cell_type": "code",
   "execution_count": 9,
   "metadata": {},
   "outputs": [
    {
     "name": "stdout",
     "output_type": "stream",
     "text": [
      "[2, 3, 5, 7, 11, 13, 17, 19, 23, 29, 31, 37, 41, 43, 47, 53, 59, 61, 67, 71, 73, 79, 83, 89, 97]\n"
     ]
    }
   ],
   "source": [
    "n = 100\n",
    "p = [2] + [x for x in range(3, n+1, 2) \n",
    "if not [y for y in range(3, int(x**0.5)+1, 2) \n",
    "if (float(x) / y).is_integer()]]\n",
    "print(p)"
   ]
  },
  {
   "cell_type": "code",
   "execution_count": null,
   "metadata": {},
   "outputs": [],
   "source": []
  }
 ],
 "metadata": {
  "kernelspec": {
   "display_name": "Python 3",
   "language": "python",
   "name": "python3"
  },
  "language_info": {
   "codemirror_mode": {
    "name": "ipython",
    "version": 3
   },
   "file_extension": ".py",
   "mimetype": "text/x-python",
   "name": "python",
   "nbconvert_exporter": "python",
   "pygments_lexer": "ipython3",
   "version": "3.6.5"
  }
 },
 "nbformat": 4,
 "nbformat_minor": 2
}
