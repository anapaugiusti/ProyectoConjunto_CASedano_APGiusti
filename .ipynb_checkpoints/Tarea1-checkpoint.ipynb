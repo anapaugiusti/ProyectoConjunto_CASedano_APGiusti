{
 "cells": [
  {
   "cell_type": "markdown",
   "metadata": {},
   "source": [
    "# Tarea 1 - Proyecto conjunto Github y resumen python\n",
    "___"
   ]
  },
  {
   "cell_type": "markdown",
   "metadata": {},
   "source": [
    "### `Expectativas del curso`"
   ]
  },
  {
   "cell_type": "markdown",
   "metadata": {},
   "source": [
    "<Strong> 1. Chelsi Sedano </Strong>"
   ]
  },
  {
   "cell_type": "markdown",
   "metadata": {},
   "source": [
    "- En lo personal espero aprender muchas cosas interesantes en la clase de simulación de procesos financieros y saber aplicar las herramientas que me enseñen."
   ]
  },
  {
   "cell_type": "markdown",
   "metadata": {},
   "source": [
    "<Strong> 2. Ana Paula Giusti </Strong>"
   ]
  },
  {
   "cell_type": "markdown",
   "metadata": {},
   "source": [
    "- Aquí expectativas de Ana Pau"
   ]
  },
  {
   "cell_type": "markdown",
   "metadata": {},
   "source": [
    "> >   ### <font color=blue > Resumen \"Python has brought computer programming to a vast new audience\""
   ]
  },
  {
   "cell_type": "markdown",
   "metadata": {},
   "source": [
    "<Strong> 1. Chelsi Sedano </Strong>"
   ]
  },
  {
   "cell_type": "markdown",
   "metadata": {},
   "source": [
    " <div>\n",
    "<img style=\"float: left; margin: 0px 0px 15px 15px;\" src=\"https://www.python.org/static/community_logos/python-logo.png\" width=\"200px\" height=\"200px\" alt=\"atom\" />\n",
    "<img style=\"float: left; margin: 0px 0px 15px 15px;\" src=\"https://upload.wikimedia.org/wikipedia/en/c/cd/Anaconda_Logo.png\" width=\"120\" />\n",
    "<img style=\"float: left; margin: 0px 0px 15px 15px;\" src=\"http://jupyter.org/assets/main-logo.svg\" width=\"80\" />\n"
   ]
  },
  {
   "cell_type": "markdown",
   "metadata": {},
   "source": [
    "> >    Un cientifico alemán llamado <Strong>Guido van Rossum</Strong>, decidió crear su propio lenguaje de programación a causa de las deficiencia en otros lenguajes. Lo que el quería era que fuera un programa mucho más sencillo de utilizar. Lo cual resultó un éxito, tanto que supero a Kim Kardashian( *una estrella de un \"reality show\"*) en las busquedas en Google. No solo es popular entre profesional, sino que también tiene demandas por gente común que desean aprender Python. \n",
    "\n",
    "> >    Van Rossum renunció por la incomodidad que le causaba su popularidad, dejando que los Phythonistas (*los afisionados al Phython*) se manejaran por si mismos. Los cuales han ayudado a agregar más de 145,000 packetes al repositorio *Cheese Shop* que van desde astronomía hasta juegos.\n",
    "\n",
    "> >   A pesar de que existen muchos otros lenguajes han evolucionado para un fin en específico y podrían ser mejores que Phython, no deja de ser popular entre la gente porque \" su arma secreta\" es que es muy fácil de aprender, compartir y los paquetes de terceros. Esto lo hace un buen lenguaje de propósito general.\n",
    "\n",
    "> >   Algunos de los paquetes más atractivos que los Pythonistas pueden encontrar en Cheese Shop aprovechan la inteligencia artificial (IA) donde crean redes neuronales, que imitan las conexiones en un cerebro, para seleccionar patrones en grandes cantidades de datos. Pero puede ser utilizado para muchas cosas diferentes y personas diferentes.\n",
    "\n",
    "> >  Nadie sabe cuanto más dura la fama de Phython pero si está siendo enseñado a niños de primaria en Estados Unidos. Pero no ha habido algún otro programa general que sea como Phython.\n"
   ]
  },
  {
   "cell_type": "markdown",
   "metadata": {},
   "source": [
    "# Replica del contenido de la figura 5\n",
    "___"
   ]
  },
  {
   "cell_type": "markdown",
   "metadata": {},
   "source": [
    "1. La fórmula el rectángulo se obtiene al interpolar a $ f (x) $ por medio del polinomio constante  $ P_0(x)= f($$\\frac{a+b}{2}$$) $.\n",
    "\n",
    "\n",
    "$$\n",
    "\\int_a^{b} \\ f (x) dx\n",
    "$$\n",
    "\n",
    "\n",
    "2. La fórmula del trapecio se obtiene al interpolar a $ f $ por medio de un polimonio lineal $ P_1(x)= \t\\approx\talpha  $."
   ]
  },
  {
   "cell_type": "markdown",
   "metadata": {},
   "source": [
    "1. La fórmula el rectángulo se obtiene al interpolar a $ \\ f (x) $ por medio del polinomio constante  $ \\ P_0(x)= f($$\\frac{a+b}{2}$$) $.\n",
    "\n",
    "\n",
    "$$\n",
    "\\int_a^{b} \\ f (x) dx\n",
    "$$\n",
    "\n",
    "\n",
    "2. La fórmula del trapecio se obtiene al interpolar a $ \\ f $ por medio de un polimonio lineal $ \\ P_1(x)= \\alpha x + \\beta $ que satisfaga $ f(a)= P_1(a)$ , y  $ \\ f(b)= P_1(b)$. Determinar el polinomio lineal es equivalente a resolver un sistema de ecuaciones lineales para $\\alpha$ y $\\beta$ cuya solución es\n",
    "\n",
    "\n",
    "$$ \\alpha = \\frac{f(b)- f(a)}{b-a} \\ \\beta= \\frac{f(a)- f(b)}{a-b}$$\n",
    "\n",
    "Al integrar $P_1(x) \\ $ en el intervalo $ [a,b]$ se obtiene la regla del trapecio con $ \\ h= b-a $\n",
    "\n",
    "$$\n",
    "\\int_a^{b} \\ f (x) \\ dx \\approx \\int_a^{b} \\ P_1(x)\\ dx = \\frac{h}{2} \\ ( \\ f(a)+ f(b) \\ )= T (\\ f).\n",
    "$$\n",
    "\n",
    "El error está dado por \n",
    "\n",
    "$$ \n",
    "\\int_a^{b} \\ f (x) \\ dx - T(f) = - \\frac{h^3}{12} ( \\ f''(\\eta)), \\ a < \\eta < b.\n",
    "$$\n",
    "\n",
    "3. Por último al integrar el polinomio cuádratico que interpola a $\\ f$ en $x$ en $\\ x = a, \\ x = \\frac{a+b}{2} \\ $ y $ \\ x= b $ se obtiene la regla de Simpson con \n",
    "\n",
    "$$ \\int_a^{b} \\ f (x) \\ dx - S(f) = \\frac{h^5}{90} ( \\ f^{(4)} \\ (\\eta)), \\ a < \\eta < b. $$"
   ]
  },
  {
   "cell_type": "markdown",
   "metadata": {},
   "source": [
    "<Strong> Github estudiante 1: </Strong> https://github.com/chelsi122"
   ]
  },
  {
   "cell_type": "code",
   "execution_count": null,
   "metadata": {},
   "outputs": [],
   "source": []
  }
 ],
 "metadata": {
  "kernelspec": {
   "display_name": "Python 3",
   "language": "python",
   "name": "python3"
  },
  "language_info": {
   "codemirror_mode": {
    "name": "ipython",
    "version": 3
   },
   "file_extension": ".py",
   "mimetype": "text/x-python",
   "name": "python",
   "nbconvert_exporter": "python",
   "pygments_lexer": "ipython3",
   "version": "3.6.5"
  }
 },
 "nbformat": 4,
 "nbformat_minor": 2
}
