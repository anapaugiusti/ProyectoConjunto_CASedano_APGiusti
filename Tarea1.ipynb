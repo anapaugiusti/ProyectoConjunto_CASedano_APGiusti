{
 "cells": [
  {
   "cell_type": "markdown",
   "metadata": {},
   "source": [
    "# Expectatívas del curso\n",
    "___"
   ]
  },
  {
   "cell_type": "markdown",
   "metadata": {},
   "source": [
    "### <font color=Grey > En lo personal espero aprender muchas cosas interesantes en la clase de simulación de procesos financieros y saber aplicar las herramientas que me enseñen. </font>"
   ]
  },
  {
   "cell_type": "markdown",
   "metadata": {},
   "source": [
    "> >   ### <font color=blue > Resumen \"Python has brought computer programming to a vast new audience\""
   ]
  },
  {
   "cell_type": "markdown",
   "metadata": {},
   "source": [
    "El artículo en breves palabras habla de la historia del lenguaje de programación **python** y como creció de una manera muy importante. El creador al que llaman estadistico caprichoso, Guido van Rossum solo realizaba un proyecto de vacaciones de navidad al crear el lenguaje de programación. El siempre busco que este fuera facil de leer, que diferentes personas puedan crear sus propios \"paquetes\" y lo llamo asi por un grupo britanico de comedia. "
   ]
  },
  {
   "cell_type": "markdown",
   "metadata": {},
   "source": [
    "El creador afirma que el no pensaba en el proyecto para \"consumo masivo\". Y este se entera de como Python era más buscado que Kim Kardashian en Google."
   ]
  },
  {
   "cell_type": "markdown",
   "metadata": {},
   "source": [
    "Una academia de programción aseguro un incremento en la demanda para aprender el lenguaje. Luego nos encontramos con lo pythonistas, quienes eran aficionados y se dedicaban a realizar miles de paquetes de python. Aqui fue cuando Mr Van Rossum dejo a los pythonistas solos con la fama y el trabajo. "
   ]
  },
  {
   "cell_type": "markdown",
   "metadata": {},
   "source": [
    "Sabemos que python no es perfecto, sin embargo a pesar de lenguajes muy utilizados para aplicaciones por ejemplo Java, Python fue utilizado para hackear, en pixar para peliculas, en google y en spotify para recomendaciones de canciones. De igual manera es muy aprovechado para inteligencia artificial o para relaizar modelos estadísticos. Y así fue como supero a otros lenguajes en el siguiente orden como se muestra:\n",
    "\n",
    "1. Perl\n",
    "2. R\n",
    "3. C++\n",
    "4. PHP\n",
    "5. JavaScript\n",
    "6. Java"
   ]
  },
  {
   "cell_type": "markdown",
   "metadata": {},
   "source": [
    "Entre 2015 y 2018 aumenta la fama de Python. Un consultante advierte lo \"aterrador\" que es aprender de la herramienta sin saber lo que esta de bajo de esta. Aqui es donde nos encontramos con el apartado de educar con python, como a las siguientes profesiones:\n",
    "  * ingenieros\n",
    "  * cientificos\n",
    "  * matemáticos\n",
    "  * Y no solo estos, sino desde clase de tecnología en estudios anteriores."
   ]
  },
  {
   "cell_type": "markdown",
   "metadata": {},
   "source": [
    "En conclusión se menciona como se puede quedar atras o seguir asi de dominante. Y realizan una afirmación de lo inteligente que es Mr Guido van Rossum."
   ]
  },
  {
   "cell_type": "code",
   "execution_count": null,
   "metadata": {},
   "outputs": [],
   "source": []
  }
 ],
 "metadata": {
  "kernelspec": {
   "display_name": "Python 3",
   "language": "python",
   "name": "python3"
  },
  "language_info": {
   "codemirror_mode": {
    "name": "ipython",
    "version": 3
   },
   "file_extension": ".py",
   "mimetype": "text/x-python",
   "name": "python",
   "nbconvert_exporter": "python",
   "pygments_lexer": "ipython3",
   "version": "3.6.5"
  }
 },
 "nbformat": 4,
 "nbformat_minor": 2
}
